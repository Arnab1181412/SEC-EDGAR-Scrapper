{
 "cells": [
  {
   "cell_type": "code",
   "execution_count": 39,
   "id": "51e7e03d",
   "metadata": {},
   "outputs": [],
   "source": [
    "from selenium import webdriver\n",
    "from bs4 import BeautifulSoup\n",
    "import time\n",
    "from selenium.webdriver.common.keys import Keys\n",
    "from selenium.webdriver.common.by import By\n",
    "from selenium.webdriver.common.action_chains import ActionChains\n",
    "import string\n",
    "import os\n",
    "import shutil"
   ]
  },
  {
   "cell_type": "code",
   "execution_count": 13,
   "id": "1eed5670",
   "metadata": {},
   "outputs": [
    {
     "data": {
      "application/javascript": [
       "\n",
       "        if (window._pyforest_update_imports_cell) { window._pyforest_update_imports_cell('import pandas as pd'); }\n",
       "    "
      ],
      "text/plain": [
       "<IPython.core.display.Javascript object>"
      ]
     },
     "metadata": {},
     "output_type": "display_data"
    },
    {
     "data": {
      "text/html": [
       "<div>\n",
       "<style scoped>\n",
       "    .dataframe tbody tr th:only-of-type {\n",
       "        vertical-align: middle;\n",
       "    }\n",
       "\n",
       "    .dataframe tbody tr th {\n",
       "        vertical-align: top;\n",
       "    }\n",
       "\n",
       "    .dataframe thead th {\n",
       "        text-align: right;\n",
       "    }\n",
       "</style>\n",
       "<table border=\"1\" class=\"dataframe\">\n",
       "  <thead>\n",
       "    <tr style=\"text-align: right;\">\n",
       "      <th></th>\n",
       "      <th>Company</th>\n",
       "    </tr>\n",
       "  </thead>\n",
       "  <tbody>\n",
       "    <tr>\n",
       "      <th>0</th>\n",
       "      <td>2U INC</td>\n",
       "    </tr>\n",
       "    <tr>\n",
       "      <th>1</th>\n",
       "      <td>30DC INC</td>\n",
       "    </tr>\n",
       "    <tr>\n",
       "      <th>2</th>\n",
       "      <td>3D PIONEER SYSTEMS INC</td>\n",
       "    </tr>\n",
       "    <tr>\n",
       "      <th>3</th>\n",
       "      <td>8X8 INC</td>\n",
       "    </tr>\n",
       "    <tr>\n",
       "      <th>4</th>\n",
       "      <td>A10 NETWORKS INC</td>\n",
       "    </tr>\n",
       "    <tr>\n",
       "      <th>...</th>\n",
       "      <td>...</td>\n",
       "    </tr>\n",
       "    <tr>\n",
       "      <th>287</th>\n",
       "      <td>ZOOM VIDEO COMUNICATIONS INC</td>\n",
       "    </tr>\n",
       "    <tr>\n",
       "      <th>288</th>\n",
       "      <td>ZOOMAWAY TRAVEL INC</td>\n",
       "    </tr>\n",
       "    <tr>\n",
       "      <th>289</th>\n",
       "      <td>ZOOMINFO TECHNOLOGIES</td>\n",
       "    </tr>\n",
       "    <tr>\n",
       "      <th>290</th>\n",
       "      <td>ZSCALER INC</td>\n",
       "    </tr>\n",
       "    <tr>\n",
       "      <th>291</th>\n",
       "      <td>ZUORA INC</td>\n",
       "    </tr>\n",
       "  </tbody>\n",
       "</table>\n",
       "<p>292 rows × 1 columns</p>\n",
       "</div>"
      ],
      "text/plain": [
       "                          Company\n",
       "0                          2U INC\n",
       "1                        30DC INC\n",
       "2          3D PIONEER SYSTEMS INC\n",
       "3                         8X8 INC\n",
       "4                A10 NETWORKS INC\n",
       "..                            ...\n",
       "287  ZOOM VIDEO COMUNICATIONS INC\n",
       "288           ZOOMAWAY TRAVEL INC\n",
       "289         ZOOMINFO TECHNOLOGIES\n",
       "290                   ZSCALER INC\n",
       "291                     ZUORA INC\n",
       "\n",
       "[292 rows x 1 columns]"
      ]
     },
     "execution_count": 13,
     "metadata": {},
     "output_type": "execute_result"
    }
   ],
   "source": [
    "company_names = pd.read_csv('../Company Names.csv')\n",
    "company_names"
   ]
  },
  {
   "cell_type": "code",
   "execution_count": 27,
   "id": "f74579f2",
   "metadata": {},
   "outputs": [
    {
     "data": {
      "application/javascript": [
       "\n",
       "        if (window._pyforest_update_imports_cell) { window._pyforest_update_imports_cell('import pandas as pd'); }\n",
       "    "
      ],
      "text/plain": [
       "<IPython.core.display.Javascript object>"
      ]
     },
     "metadata": {},
     "output_type": "display_data"
    },
    {
     "name": "stderr",
     "output_type": "stream",
     "text": [
      "C:\\Users\\91988\\AppData\\Roaming\\Python\\Python38\\site-packages\\IPython\\core\\interactiveshell.py:3169: DtypeWarning: Columns (2) have mixed types.Specify dtype option on import or set low_memory=False.\n",
      "  has_raised = await self.run_ast_nodes(code_ast.body, cell_name,\n"
     ]
    },
    {
     "data": {
      "text/html": [
       "<div>\n",
       "<style scoped>\n",
       "    .dataframe tbody tr th:only-of-type {\n",
       "        vertical-align: middle;\n",
       "    }\n",
       "\n",
       "    .dataframe tbody tr th {\n",
       "        vertical-align: top;\n",
       "    }\n",
       "\n",
       "    .dataframe thead th {\n",
       "        text-align: right;\n",
       "    }\n",
       "</style>\n",
       "<table border=\"1\" class=\"dataframe\">\n",
       "  <thead>\n",
       "    <tr style=\"text-align: right;\">\n",
       "      <th></th>\n",
       "      <th>Company</th>\n",
       "      <th>CIK</th>\n",
       "    </tr>\n",
       "  </thead>\n",
       "  <tbody>\n",
       "    <tr>\n",
       "      <th>0</th>\n",
       "      <td>!J INC</td>\n",
       "      <td>0001438823</td>\n",
       "    </tr>\n",
       "    <tr>\n",
       "      <th>1</th>\n",
       "      <td>#1 A LIFESAFER HOLDINGS, INC.</td>\n",
       "      <td>0001509607</td>\n",
       "    </tr>\n",
       "    <tr>\n",
       "      <th>2</th>\n",
       "      <td>#1 ARIZONA DISCOUNT PROPERTIES LLC</td>\n",
       "      <td>0001457512</td>\n",
       "    </tr>\n",
       "    <tr>\n",
       "      <th>3</th>\n",
       "      <td>#1 PAINTBALL CORP</td>\n",
       "      <td>0001433777</td>\n",
       "    </tr>\n",
       "    <tr>\n",
       "      <th>4</th>\n",
       "      <td>$ LLC</td>\n",
       "      <td>0001427189</td>\n",
       "    </tr>\n",
       "  </tbody>\n",
       "</table>\n",
       "</div>"
      ],
      "text/plain": [
       "                              Company         CIK\n",
       "0                              !J INC  0001438823\n",
       "1       #1 A LIFESAFER HOLDINGS, INC.  0001509607\n",
       "2  #1 ARIZONA DISCOUNT PROPERTIES LLC  0001457512\n",
       "3                   #1 PAINTBALL CORP  0001433777\n",
       "4                               $ LLC  0001427189"
      ]
     },
     "execution_count": 27,
     "metadata": {},
     "output_type": "execute_result"
    }
   ],
   "source": [
    "columns_cik_numbers = ['Company','CIK','NaN']\n",
    "cik_numbers = pd.read_csv('../CIK.txt',sep = ':',header = None,names = columns_cik_numbers)\n",
    "cik_numbers = cik_numbers.drop(columns='NaN')\n",
    "cik_numbers.head()"
   ]
  },
  {
   "cell_type": "code",
   "execution_count": 30,
   "id": "b985c789",
   "metadata": {},
   "outputs": [
    {
     "data": {
      "application/javascript": [
       "\n",
       "        if (window._pyforest_update_imports_cell) { window._pyforest_update_imports_cell('import pandas as pd'); }\n",
       "    "
      ],
      "text/plain": [
       "<IPython.core.display.Javascript object>"
      ]
     },
     "metadata": {},
     "output_type": "display_data"
    },
    {
     "data": {
      "text/html": [
       "<div>\n",
       "<style scoped>\n",
       "    .dataframe tbody tr th:only-of-type {\n",
       "        vertical-align: middle;\n",
       "    }\n",
       "\n",
       "    .dataframe tbody tr th {\n",
       "        vertical-align: top;\n",
       "    }\n",
       "\n",
       "    .dataframe thead th {\n",
       "        text-align: right;\n",
       "    }\n",
       "</style>\n",
       "<table border=\"1\" class=\"dataframe\">\n",
       "  <thead>\n",
       "    <tr style=\"text-align: right;\">\n",
       "      <th></th>\n",
       "      <th>Company</th>\n",
       "      <th>CIK</th>\n",
       "    </tr>\n",
       "  </thead>\n",
       "  <tbody>\n",
       "    <tr>\n",
       "      <th>0</th>\n",
       "      <td>2U INC</td>\n",
       "      <td>1459417</td>\n",
       "    </tr>\n",
       "    <tr>\n",
       "      <th>1</th>\n",
       "      <td>30DC INC</td>\n",
       "      <td>1118974</td>\n",
       "    </tr>\n",
       "    <tr>\n",
       "      <th>2</th>\n",
       "      <td>3D PIONEER SYSTEMS INC</td>\n",
       "      <td>1556753</td>\n",
       "    </tr>\n",
       "    <tr>\n",
       "      <th>3</th>\n",
       "      <td>8X8 INC</td>\n",
       "      <td>1023731</td>\n",
       "    </tr>\n",
       "    <tr>\n",
       "      <th>4</th>\n",
       "      <td>A10 NETWORKS INC</td>\n",
       "      <td>1580808</td>\n",
       "    </tr>\n",
       "    <tr>\n",
       "      <th>...</th>\n",
       "      <td>...</td>\n",
       "      <td>...</td>\n",
       "    </tr>\n",
       "    <tr>\n",
       "      <th>269</th>\n",
       "      <td>ZOOM TELEPHONICS INC</td>\n",
       "      <td>822708</td>\n",
       "    </tr>\n",
       "    <tr>\n",
       "      <th>270</th>\n",
       "      <td>ZOOM TELEPHONICS INC</td>\n",
       "      <td>1467761</td>\n",
       "    </tr>\n",
       "    <tr>\n",
       "      <th>271</th>\n",
       "      <td>ZOOMAWAY TRAVEL INC</td>\n",
       "      <td>1541054</td>\n",
       "    </tr>\n",
       "    <tr>\n",
       "      <th>272</th>\n",
       "      <td>ZSCALER INC</td>\n",
       "      <td>1713683</td>\n",
       "    </tr>\n",
       "    <tr>\n",
       "      <th>273</th>\n",
       "      <td>ZUORA INC</td>\n",
       "      <td>1423774</td>\n",
       "    </tr>\n",
       "  </tbody>\n",
       "</table>\n",
       "<p>274 rows × 2 columns</p>\n",
       "</div>"
      ],
      "text/plain": [
       "                    Company      CIK\n",
       "0                    2U INC  1459417\n",
       "1                  30DC INC  1118974\n",
       "2    3D PIONEER SYSTEMS INC  1556753\n",
       "3                   8X8 INC  1023731\n",
       "4          A10 NETWORKS INC  1580808\n",
       "..                      ...      ...\n",
       "269    ZOOM TELEPHONICS INC   822708\n",
       "270    ZOOM TELEPHONICS INC  1467761\n",
       "271     ZOOMAWAY TRAVEL INC  1541054\n",
       "272             ZSCALER INC  1713683\n",
       "273               ZUORA INC  1423774\n",
       "\n",
       "[274 rows x 2 columns]"
      ]
     },
     "execution_count": 30,
     "metadata": {},
     "output_type": "execute_result"
    }
   ],
   "source": [
    "punctuations = string.punctuation\n",
    "cik_numbers['Company'] = cik_numbers['Company'].apply(lambda x: str(x).translate(str.maketrans('','',punctuations)))\n",
    "cik_numbers['Company'] = cik_numbers['Company'].apply(lambda x: str(x).upper())\n",
    "\n",
    "company_names['Company'] = company_names['Company'].apply(lambda x: str(x).translate(str.maketrans('','',punctuations)))\n",
    "company_names['Company'] = company_names['Company'].apply(lambda x: str(x).upper())\n",
    "\n",
    "required_data = pd.merge(company_names,cik_numbers,on = 'Company')\n",
    "required_data['CIK'] = required_data['CIK'].apply(lambda x: str(int(x)))\n",
    "required_data"
   ]
  },
  {
   "cell_type": "code",
   "execution_count": 101,
   "id": "efe02ab4",
   "metadata": {},
   "outputs": [
    {
     "ename": "SyntaxError",
     "evalue": "invalid character in identifier (Temp/ipykernel_19720/1228930095.py, line 34)",
     "output_type": "error",
     "traceback": [
      "\u001b[1;36m  File \u001b[1;32m\"C:\\Users\\91988\\AppData\\Local\\Temp/ipykernel_19720/1228930095.py\"\u001b[1;36m, line \u001b[1;32m34\u001b[0m\n\u001b[1;33m    driver = webdriver.Chrome('C:\\\\Users\\\\91988\\\\Downloads\\\\chromedriver_win32\\\\chromedriver.exe',chrome_options=options)\u001b[0m\n\u001b[1;37m          ^\u001b[0m\n\u001b[1;31mSyntaxError\u001b[0m\u001b[1;31m:\u001b[0m invalid character in identifier\n"
     ]
    }
   ],
   "source": [
    "\n",
    "for company,cik in required_data['Company'][:2],required_data['CIK'][:2]:\n",
    "    \n",
    "    os.makedirs('../Data/{}/10-K'.format(company))\n",
    "    os.makedirs('../Data/{}/10-Q'.format(company))\n",
    "    os.makedirs('../Data/{}/8-K'.format(company))\n",
    "    i = 1\n",
    "    j = 1\n",
    "    while True:\n",
    "        \n",
    "        driver = webdriver.Chrome(\"C:\\\\Users\\\\91988\\\\Downloads\\\\chromedriver_win32\\\\chromedriver.exe\")\n",
    "        driver.get(\"https://www.sec.gov/edgar/browse/?CIK={}&owner=exclude\".format(cik))\n",
    "\n",
    "        time.sleep(1)\n",
    "\n",
    "        driver.find_element(By.XPATH,\"//div[@id='filingsStart']/div[2]/div[3]/h5/a\").click()\n",
    "\n",
    "        view_button = driver.find_element(By.XPATH,\"//button[@data-group='annualOrQuarterlyReports']\")\n",
    "        driver.implicitly_wait(1)\n",
    "        ActionChains(driver).move_to_element(view_button).click(view_button).perform()\n",
    "        try :\n",
    "            \n",
    "            form_type = driver.find_element(By.XPATH,\"//tbody/tr[{}]/td[1]\".format(i)).text\n",
    "            href = driver.find_element(By.XPATH,\"//tbody/tr[{}]/td[2]/div/a[2]\".format(i)).get_attribute('href')\n",
    "            i += 1\n",
    "        except:\n",
    "            break\n",
    "        \n",
    "        \n",
    "        try :\n",
    "            options = webdriver.ChromeOptions()\n",
    "            download_dir = \"C:\\\\Users\\\\91988\\\\Desktop\\\\Projects\\\\Inter IIT Tech 10.0\\\\Data\\\\{}\\\\{}\".format(company,form_type)\n",
    "            prefs = {\"download.default_directory\":download_dir}\n",
    "            options.add_experimental_option(\"prefs\", prefs)\n",
    "            driver = webdriver.Chrome('C:\\\\Users\\\\91988\\\\Downloads\\\\chromedriver_win32\\\\chromedriver.exe',chrome_options=options)\n",
    "\n",
    "            driver_10s.get(href)\n",
    "        except:\n",
    "            continue\n",
    "            \n",
    "        acc_number = driver_10s.find_element(By.XPATH,\"//div[@id='secNum']\").text.split('.')[-1].strip()\n",
    "\n",
    "        driver_10s.find_element(By.XPATH,\"//a[@id='interactiveDataBtn']\").click()\n",
    "\n",
    "        driver_10s.find_element(By.XPATH,\"//table/tbody/tr/td/a[2]\").click()\n",
    "        time.sleep(6)\n",
    "        driver_10s.close()\n",
    "        \n",
    "    while True:\n",
    "        \n",
    "        driver = webdriver.Chrome(\"C:\\\\Users\\\\91988\\\\Downloads\\\\chromedriver_win32\\\\chromedriver.exe\")\n",
    "        driver.get(\"https://www.sec.gov/edgar/browse/?CIK={}&owner=exclude\".format(cik))\n",
    "\n",
    "        time.sleep(1)\n",
    "\n",
    "        driver.find_element(By.XPATH,\"//div[@id='filingsStart']/div[2]/div[2]/h5/a\").click()\n",
    "\n",
    "        view_button = driver.find_element(By.XPATH,\"//button[@data-group='currentReports']\")\n",
    "        driver.implicitly_wait(1)\n",
    "        ActionChains(driver).move_to_element(view_button).click(view_button).perform()\n",
    "        try :\n",
    "            \n",
    "            form_type = driver.find_element(By.XPATH,\"//tbody/tr[{}]/td[1]\".format(i)).text\n",
    "            href = driver.find_element(By.XPATH,\"//tbody/tr[{}]/td[2]/div/a[2]\".format(i)).get_attribute('href')\n",
    "            i += 1\n",
    "        except:\n",
    "            break\n",
    "        \n",
    "        \n",
    "        try :\n",
    "            options = webdriver.ChromeOptions()\n",
    "            download_dir = \"C:\\\\Users\\\\91988\\\\Desktop\\\\Projects\\\\Inter IIT Tech 10.0\\\\Data\\\\{}\\\\{}\".format(company,form_type)\n",
    "            prefs = {\"download.default_directory\":download_dir}\n",
    "            \n",
    "            driver_8k = webdriver.Chrome('C:\\\\Users\\\\91988\\\\Downloads\\\\chromedriver_win32\\\\chromedriver.exe',options=options)\n",
    "            options.add_experimental_option(\"prefs\",prefs)\n",
    "            driver_8k.get(href)\n",
    "        except:\n",
    "            continue\n",
    "            \n",
    "        acc_number = driver_8k.find_element(By.XPATH,\"//div[@id='secNum']\").text.split('.')[-1].strip()\n",
    "\n",
    "#             print(acc_number,form_type)\n",
    "        driver_8k.find_element(By.XPATH,\"//a[@id='interactiveDataBtn']\").click()\n",
    "\n",
    "        driver_8k.find_element(By.XPATH,\"//table/tbody/tr/td/a[2]\").click()\n",
    "        time.sleep(6)\n",
    "        driver_8k.close()\n",
    "        \n",
    "     "
   ]
  },
  {
   "cell_type": "code",
   "execution_count": 13,
   "id": "4fc20c54",
   "metadata": {},
   "outputs": [
    {
     "name": "stderr",
     "output_type": "stream",
     "text": [
      "C:\\Users\\91988\\AppData\\Local\\Temp/ipykernel_25080/2366850665.py:1: DeprecationWarning: executable_path has been deprecated, please pass in a Service object\n",
      "  driver = webdriver.Chrome(\"C:\\\\Users\\\\91988\\\\Downloads\\\\chromedriver_win32\\\\chromedriver.exe\")\n"
     ]
    },
    {
     "ename": "NameError",
     "evalue": "name 'username' is not defined",
     "output_type": "error",
     "traceback": [
      "\u001b[1;31m---------------------------------------------------------------------------\u001b[0m",
      "\u001b[1;31mNameError\u001b[0m                                 Traceback (most recent call last)",
      "\u001b[1;32m~\\AppData\\Local\\Temp/ipykernel_25080/2366850665.py\u001b[0m in \u001b[0;36m<module>\u001b[1;34m\u001b[0m\n\u001b[0;32m      6\u001b[0m \u001b[0mdriver\u001b[0m\u001b[1;33m.\u001b[0m\u001b[0mfind_element\u001b[0m\u001b[1;33m(\u001b[0m\u001b[0mBy\u001b[0m\u001b[1;33m.\u001b[0m\u001b[0mXPATH\u001b[0m\u001b[1;33m,\u001b[0m\u001b[1;34m\"//td[@colspan='2']/a[2]\"\u001b[0m\u001b[1;33m)\u001b[0m\u001b[1;33m.\u001b[0m\u001b[0mclick\u001b[0m\u001b[1;33m(\u001b[0m\u001b[1;33m)\u001b[0m\u001b[1;33m\u001b[0m\u001b[1;33m\u001b[0m\u001b[0m\n\u001b[0;32m      7\u001b[0m \u001b[1;33m\u001b[0m\u001b[0m\n\u001b[1;32m----> 8\u001b[1;33m \u001b[0musername\u001b[0m\u001b[1;33m.\u001b[0m\u001b[0msend_keys\u001b[0m\u001b[1;33m(\u001b[0m\u001b[1;34m\"addisonhardley@gmail.com\"\u001b[0m\u001b[1;33m)\u001b[0m\u001b[1;33m\u001b[0m\u001b[1;33m\u001b[0m\u001b[0m\n\u001b[0m\u001b[0;32m      9\u001b[0m \u001b[1;32mwith\u001b[0m \u001b[0mopen\u001b[0m\u001b[1;33m(\u001b[0m\u001b[1;34m\"password.txt\"\u001b[0m\u001b[1;33m,\u001b[0m \u001b[1;34m\"r\"\u001b[0m\u001b[1;33m)\u001b[0m \u001b[1;32mas\u001b[0m \u001b[0mf\u001b[0m\u001b[1;33m:\u001b[0m\u001b[1;33m\u001b[0m\u001b[1;33m\u001b[0m\u001b[0m\n\u001b[0;32m     10\u001b[0m     \u001b[0mpassword\u001b[0m \u001b[1;33m=\u001b[0m \u001b[0mf\u001b[0m\u001b[1;33m.\u001b[0m\u001b[0mread\u001b[0m\u001b[1;33m(\u001b[0m\u001b[1;33m)\u001b[0m\u001b[1;33m\u001b[0m\u001b[1;33m\u001b[0m\u001b[0m\n",
      "\u001b[1;31mNameError\u001b[0m: name 'username' is not defined"
     ]
    }
   ],
   "source": [
    "driver = webdriver.Chrome(\"C:\\\\Users\\\\91988\\\\Downloads\\\\chromedriver_win32\\\\chromedriver.exe\")\n",
    "driver.get(\"https://www.sec.gov/cgi-bin/viewer?action=view&cik=1618732&accession_number=0001618732-18-000173&xbrl_type=v\")\n",
    "\n",
    "time.sleep(3)\n",
    "\n",
    "driver.find_element(By.XPATH,\"//td[@colspan='2']/a[2]\").click()\n",
    "\n",
    "username.send_keys(\"addisonhardley@gmail.com\")\n",
    "with open(\"password.txt\", \"r\") as f:\n",
    "    password = f.read()\n",
    "\n",
    "pword = driver.find_element(By.ID,\"password\")\n",
    "\n",
    "pword.send_keys('addisonhardley123456')\n",
    "\n",
    "driver.find_element_by_xpath(\"//button[@type='submit']\").click()"
   ]
  },
  {
   "cell_type": "code",
   "execution_count": null,
   "id": "291136bb",
   "metadata": {},
   "outputs": [],
   "source": []
  },
  {
   "cell_type": "code",
   "execution_count": null,
   "id": "b91de836",
   "metadata": {},
   "outputs": [],
   "source": []
  },
  {
   "cell_type": "code",
   "execution_count": null,
   "id": "a25acfc7",
   "metadata": {},
   "outputs": [],
   "source": []
  },
  {
   "cell_type": "code",
   "execution_count": null,
   "id": "d4770048",
   "metadata": {},
   "outputs": [],
   "source": []
  },
  {
   "cell_type": "code",
   "execution_count": null,
   "id": "50669532",
   "metadata": {},
   "outputs": [],
   "source": []
  }
 ],
 "metadata": {
  "kernelspec": {
   "display_name": "Python [conda env:root] *",
   "language": "python",
   "name": "conda-root-py"
  },
  "language_info": {
   "codemirror_mode": {
    "name": "ipython",
    "version": 3
   },
   "file_extension": ".py",
   "mimetype": "text/x-python",
   "name": "python",
   "nbconvert_exporter": "python",
   "pygments_lexer": "ipython3",
   "version": "3.8.5"
  }
 },
 "nbformat": 4,
 "nbformat_minor": 5
}
